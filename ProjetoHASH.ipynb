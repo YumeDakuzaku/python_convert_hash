{
  "nbformat": 4,
  "nbformat_minor": 0,
  "metadata": {
    "colab": {
      "name": "ProjetoHASH.ipynb",
      "provenance": [],
      "collapsed_sections": []
    },
    "kernelspec": {
      "name": "python3",
      "display_name": "Python 3"
    },
    "language_info": {
      "name": "python"
    }
  },
  "cells": [
    {
      "cell_type": "code",
      "metadata": {
        "id": "Tfe3iXgNeRa9"
      },
      "source": [
        "import hashlib"
      ],
      "execution_count": null,
      "outputs": []
    },
    {
      "cell_type": "code",
      "metadata": {
        "colab": {
          "base_uri": "https://localhost:8080/"
        },
        "id": "ud2Oy_79erz8",
        "outputId": "4e58fdc2-e3a8-4923-e6d7-19854b141b1e"
      },
      "source": [
        "string = input(\"Digite o texto a ser gerado a hash: \")"
      ],
      "execution_count": null,
      "outputs": [
        {
          "output_type": "stream",
          "text": [
            "Digite o texto a ser gerado a hash: teste123\n"
          ],
          "name": "stdout"
        }
      ]
    },
    {
      "cell_type": "code",
      "metadata": {
        "colab": {
          "base_uri": "https://localhost:8080/"
        },
        "id": "CP2Uksr4er9k",
        "outputId": "3e55e263-1911-401d-bb5c-9b9ed06e9767"
      },
      "source": [
        "menu = int(input(''' ### MENU - ESCOLHA O TIPO DE HASH ###\n",
        "                      1 MD5\n",
        "                      2 SHA1\n",
        "                      3 SHA256\n",
        "                      4 SHA512\n",
        "                      Digite o número do hash a ser gerado: '''))\n",
        "\n"
      ],
      "execution_count": null,
      "outputs": [
        {
          "output_type": "stream",
          "text": [
            " ### MENU - ESCOLHA O TIPO DE HASH ###\n",
            "                      1 MD5\n",
            "                      2 SHA1\n",
            "                      3 SHA256\n",
            "                      4 SHA512\n",
            "                      Digite o número do hash a ser gerado: 2\n"
          ],
          "name": "stdout"
        }
      ]
    },
    {
      "cell_type": "code",
      "metadata": {
        "colab": {
          "base_uri": "https://localhost:8080/"
        },
        "id": "0yremm77esEH",
        "outputId": "3c5290b7-667a-414c-96af-e8f95eaae213"
      },
      "source": [
        "if menu == 1:\n",
        "    resultado = hashlib.md5(string.encode('utf-8'))\n",
        "    print('A has MD5 da string: ', string, 'é: ', resultado.hexdigest())\n",
        "elif menu == 2:\n",
        "    resultado = hashlib.sha1(string.encode('utf-8'))\n",
        "    print('A hash SHA1 da string: ', string, 'é: ', resultado.hexdigest())\n",
        "elif menu == 3:\n",
        "    resultado = hashlib.sha256(string.encode('utf-8'))\n",
        "    print('A hash SHA256 da string: ', string, 'é: ', resultado.hexdigest())\n",
        "elif menu == 4:\n",
        "    resultado = hashlib.sha512(string.encode('utf-8'))\n",
        "    print('A hash SHA512 da string: ', string, 'é: ', resultado.hexdigest())\n",
        "else:\n",
        "    print('Algo de errado, tente novamente')"
      ],
      "execution_count": null,
      "outputs": [
        {
          "output_type": "stream",
          "text": [
            "A hash SHA1 da string:  teste123 é:  e0f68134d29dc326d115de4c8fab8700a3c4b002\n"
          ],
          "name": "stdout"
        }
      ]
    }
  ]
}